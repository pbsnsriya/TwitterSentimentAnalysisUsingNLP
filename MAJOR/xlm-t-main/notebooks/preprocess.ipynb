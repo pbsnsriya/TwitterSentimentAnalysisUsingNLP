{
 "cells": [
  {
   "cell_type": "code",
   "execution_count": 32,
   "metadata": {},
   "outputs": [
    {
     "name": "stdout",
     "output_type": "stream",
     "text": [
      "✅ Merged all multilingual datasets into train_text_combined.txt & train_labels_combined.txt!\n"
     ]
    }
   ],
   "source": [
    "import pandas as pd\n",
    "\n",
    "# List of multilingual text and label files\n",
    "text_files = [r\"C:\\Users\\pbsns\\OneDrive\\Documents\\MAJOR\\xlm-t-main\\data\\sentiment\\arabic\\train_text.txt\", \n",
    "              r\"C:\\Users\\pbsns\\OneDrive\\Documents\\MAJOR\\xlm-t-main\\data\\sentiment\\spanish\\train_text.txt\",\n",
    "              r\"C:\\Users\\pbsns\\OneDrive\\Documents\\MAJOR\\xlm-t-main\\data\\sentiment\\all\\train_text.txt\", \n",
    "              r\"C:\\Users\\pbsns\\OneDrive\\Documents\\MAJOR\\xlm-t-main\\data\\sentiment\\german\\train_text.txt\",\n",
    "              r\"C:\\Users\\pbsns\\OneDrive\\Documents\\MAJOR\\xlm-t-main\\data\\sentiment\\english\\train_text.txt\",\n",
    "              r\"C:\\Users\\pbsns\\OneDrive\\Documents\\MAJOR\\xlm-t-main\\data\\sentiment\\french\\train_text.txt\",\n",
    "              r\"C:\\Users\\pbsns\\OneDrive\\Documents\\MAJOR\\xlm-t-main\\data\\sentiment\\portuguese\\train_text.txt\",\n",
    "              r\"C:\\Users\\pbsns\\OneDrive\\Documents\\MAJOR\\xlm-t-main\\data\\sentiment\\hindi\\train_text.txt\", \n",
    "              r\"C:\\Users\\pbsns\\OneDrive\\Documents\\MAJOR\\xlm-t-main\\data\\sentiment\\italian\\train_text.txt\"]\n",
    "\n",
    "label_files = [r\"C:\\Users\\pbsns\\OneDrive\\Documents\\MAJOR\\xlm-t-main\\data\\sentiment\\arabic\\train_labels.txt\",\n",
    "               r\"C:\\Users\\pbsns\\OneDrive\\Documents\\MAJOR\\xlm-t-main\\data\\sentiment\\spanish\\train_labels.txt\",\n",
    "               r\"C:\\Users\\pbsns\\OneDrive\\Documents\\MAJOR\\xlm-t-main\\data\\sentiment\\all\\train_labels.txt\", \n",
    "               r\"C:\\Users\\pbsns\\OneDrive\\Documents\\MAJOR\\xlm-t-main\\data\\sentiment\\german\\train_labels.txt\", \n",
    "               r\"C:\\Users\\pbsns\\OneDrive\\Documents\\MAJOR\\xlm-t-main\\data\\sentiment\\english\\train_labels.txt\",\n",
    "               r\"C:\\Users\\pbsns\\OneDrive\\Documents\\MAJOR\\xlm-t-main\\data\\sentiment\\french\\train_labels.txt\",\n",
    "               r\"C:\\Users\\pbsns\\OneDrive\\Documents\\MAJOR\\xlm-t-main\\data\\sentiment\\portuguese\\train_labels.txt\",\n",
    "               r\"C:\\Users\\pbsns\\OneDrive\\Documents\\MAJOR\\xlm-t-main\\data\\sentiment\\hindi\\train_labels.txt\",\n",
    "               r\"C:\\Users\\pbsns\\OneDrive\\Documents\\MAJOR\\xlm-t-main\\data\\sentiment\\italian\\train_labels.txt\"]\n",
    "\n",
    "# Initialize empty lists\n",
    "all_texts, all_labels = [], []\n",
    "\n",
    "# Loop through files and merge\n",
    "for text_file, label_file in zip(text_files, label_files):\n",
    "    with open(text_file, \"r\", encoding=\"utf-8\") as f_text, open(label_file, \"r\", encoding=\"utf-8\") as f_label:\n",
    "        texts = f_text.readlines()\n",
    "        labels = f_label.readlines()  # Keep labels as strings\n",
    "\n",
    "        all_texts.extend(texts)\n",
    "        all_labels.extend(labels)\n",
    "\n",
    "# Save text and labels separately\n",
    "with open(\"train_text_combined.txt\", \"w\", encoding=\"utf-8\") as f_text:\n",
    "    f_text.writelines(all_texts)\n",
    "\n",
    "with open(\"train_labels_combined.txt\", \"w\", encoding=\"utf-8\") as f_label:\n",
    "    f_label.writelines(all_labels)\n",
    "\n",
    "print(\"✅ Merged all multilingual datasets into train_text_combined.txt & train_labels_combined.txt!\")"
   ]
  },
  {
   "cell_type": "code",
   "execution_count": 33,
   "metadata": {},
   "outputs": [],
   "source": [
    "import re\n",
    "import pandas as pd\n",
    "import nltk\n",
    "from nltk.corpus import stopwords\n",
    "from langdetect import detect\n",
    "from textblob import TextBlob"
   ]
  },
  {
   "cell_type": "code",
   "execution_count": 34,
   "metadata": {},
   "outputs": [
    {
     "name": "stderr",
     "output_type": "stream",
     "text": [
      "[nltk_data] Downloading package stopwords to\n",
      "[nltk_data]     C:\\Users\\pbsns\\AppData\\Roaming\\nltk_data...\n",
      "[nltk_data]   Package stopwords is already up-to-date!\n"
     ]
    },
    {
     "data": {
      "text/plain": [
       "True"
      ]
     },
     "execution_count": 34,
     "metadata": {},
     "output_type": "execute_result"
    }
   ],
   "source": [
    "import nltk\n",
    "nltk.download(\"stopwords\")"
   ]
  },
  {
   "cell_type": "code",
   "execution_count": 35,
   "metadata": {},
   "outputs": [
    {
     "name": "stdout",
     "output_type": "stream",
     "text": [
      "Stopwords loaded successfully!\n"
     ]
    }
   ],
   "source": [
    "from nltk.corpus import stopwords\n",
    "\n",
    "# Define stopwords for Hindi & Arabic manually\n",
    "hindi_stopwords = {\"का\", \"की\", \"के\", \"है\", \"था\", \"थी\", \"हो\", \"कर\", \"से\", \"पर\", \"यह\", \"कि\", \"और\"}\n",
    "arabic_stopwords = {\"في\", \"من\", \"على\", \"عن\", \"إلى\", \"هذا\", \"ذلك\", \"لكن\", \"كان\", \"ما\", \"مع\", \"كما\", \"لأن\"}\n",
    "\n",
    "# Load multilingual stopwords\n",
    "stopwords_dict = {\n",
    "    \"en\": set(stopwords.words(\"english\")),\n",
    "    \"fr\": set(stopwords.words(\"french\")),\n",
    "    \"de\": set(stopwords.words(\"german\")),\n",
    "    \"es\": set(stopwords.words(\"spanish\")),\n",
    "    \"it\": set(stopwords.words(\"italian\")),\n",
    "    \"pt\": set(stopwords.words(\"portuguese\")),\n",
    "    \"hi\": hindi_stopwords,  # Use manually defined set\n",
    "    \"ar\": arabic_stopwords  # Use manually defined set\n",
    "}\n",
    "\n",
    "# Sample slang dictionary (expand as needed)\n",
    "slang_dict = {\n",
    "    \"u\": \"you\",\n",
    "    \"r\": \"are\",\n",
    "    \"btw\": \"by the way\",\n",
    "    \"smh\": \"shaking my head\",\n",
    "    \"omg\": \"oh my god\",\n",
    "    \"idk\": \"I don't know\",\n",
    "    \"thx\": \"thanks\",\n",
    "    \"plz\": \"please\"\n",
    "}\n",
    "\n",
    "print(\"Stopwords loaded successfully!\")\n"
   ]
  },
  {
   "cell_type": "code",
   "execution_count": 36,
   "metadata": {},
   "outputs": [],
   "source": [
    "# Function to clean text\n",
    "def clean_text(text):\n",
    "    \"\"\"Removes URLs, mentions, and special characters.\"\"\"\n",
    "    text = re.sub(r\"http\\S+|www\\S+\", \"\", text)  # Remove URLs\n",
    "    text = re.sub(r\"@\\w+\", \"\", text)  # Remove mentions (@user)\n",
    "    text = re.sub(r\"[^a-zA-Z0-9\\s\\u0600-\\u06FF\\u0900-\\u097F]\", \"\", text)  # Keep only letters & numbers\n",
    "    return text.lower()"
   ]
  },
  {
   "cell_type": "code",
   "execution_count": 37,
   "metadata": {},
   "outputs": [],
   "source": [
    "# Function to handle slang & spelling corrections\n",
    "def correct_text(text):\n",
    "    \"\"\"Replaces slang and corrects misspellings.\"\"\"\n",
    "    words = text.split()\n",
    "    corrected_words = [slang_dict.get(word, word) for word in words]\n",
    "    return \" \".join(corrected_words)\n"
   ]
  },
  {
   "cell_type": "code",
   "execution_count": 38,
   "metadata": {},
   "outputs": [],
   "source": [
    "# Function to remove stopwords based on detected language\n",
    "def remove_stopwords(text):\n",
    "    \"\"\"Removes stopwords for detected language.\"\"\"\n",
    "    try:\n",
    "        lang = detect(text)\n",
    "        words = text.split()\n",
    "        filtered_words = [word for word in words if word not in stopwords_dict.get(lang, set())]\n",
    "        return \" \".join(filtered_words)\n",
    "    except:\n",
    "        return text  # Return original if language detection fails"
   ]
  },
  {
   "cell_type": "code",
   "execution_count": 39,
   "metadata": {},
   "outputs": [],
   "source": [
    "# Function to preprocess text\n",
    "def preprocess_text(text):\n",
    "    \"\"\"Applies all preprocessing steps.\"\"\"\n",
    "    text = clean_text(text)\n",
    "    text = correct_text(text)\n",
    "    text = remove_stopwords(text)\n",
    "    return text\n"
   ]
  },
  {
   "cell_type": "code",
   "execution_count": 40,
   "metadata": {},
   "outputs": [],
   "source": [
    "# Load dataset\n",
    "def load_dataset(text_path, label_path):\n",
    "    \"\"\"Loads text and labels from files.\"\"\"\n",
    "    with open(text_path, \"r\", encoding=\"utf-8\") as f:\n",
    "        texts = f.readlines()\n",
    "    with open(label_path, \"r\", encoding=\"utf-8\") as f:\n",
    "        labels = [int(label.strip()) for label in f.readlines()]\n",
    "    return pd.DataFrame({\"text\": texts, \"label\": labels})\n",
    "\n"
   ]
  },
  {
   "cell_type": "code",
   "execution_count": 45,
   "metadata": {},
   "outputs": [],
   "source": [
    "\n",
    "train_data = load_dataset(r\"C:\\Users\\pbsns\\OneDrive\\Documents\\MAJOR\\xlm-t-main\\notebooks\\train_text_combined.txt\",r\"C:\\Users\\pbsns\\OneDrive\\Documents\\MAJOR\\xlm-t-main\\notebooks\\train_labels_combined.txt\")\n",
    "train_data[\"cleaned_text\"] = train_data[\"text\"].apply(preprocess_text)"
   ]
  },
  {
   "cell_type": "code",
   "execution_count": 46,
   "metadata": {},
   "outputs": [
    {
     "name": "stdout",
     "output_type": "stream",
     "text": [
      "Preprocessing completed! Saved to cleaned_train.csv\n"
     ]
    }
   ],
   "source": [
    "# Save cleaned data\n",
    "train_data.to_csv(\"cleaned_train.csv\", index=False)\n",
    "print(\"Preprocessing completed! Saved to cleaned_train.csv\")"
   ]
  }
 ],
 "metadata": {
  "kernelspec": {
   "display_name": "base",
   "language": "python",
   "name": "python3"
  },
  "language_info": {
   "codemirror_mode": {
    "name": "ipython",
    "version": 3
   },
   "file_extension": ".py",
   "mimetype": "text/x-python",
   "name": "python",
   "nbconvert_exporter": "python",
   "pygments_lexer": "ipython3",
   "version": "3.11.7"
  }
 },
 "nbformat": 4,
 "nbformat_minor": 2
}
